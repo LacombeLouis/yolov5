{
 "cells": [
  {
   "cell_type": "code",
   "execution_count": 8,
   "metadata": {},
   "outputs": [],
   "source": [
    "import numpy as np\n",
    "from itertools import islice\n"
   ]
  },
  {
   "cell_type": "code",
   "execution_count": 9,
   "metadata": {},
   "outputs": [],
   "source": [
    "data_ = {}\n",
    "for i in range(10):\n",
    "    data_[i] = np.random.random()"
   ]
  },
  {
   "cell_type": "code",
   "execution_count": 10,
   "metadata": {},
   "outputs": [
    {
     "data": {
      "text/plain": [
       "{0: 0.11508530687678886,\n",
       " 1: 0.05227020923955683,\n",
       " 2: 0.2130711853254048,\n",
       " 3: 0.3074397382829177,\n",
       " 4: 0.9857577667059187,\n",
       " 5: 0.24045758606641654,\n",
       " 6: 0.9566574985890073,\n",
       " 7: 0.5022385528218152,\n",
       " 8: 0.9930012076449223,\n",
       " 9: 0.7073703104407921}"
      ]
     },
     "execution_count": 10,
     "metadata": {},
     "output_type": "execute_result"
    }
   ],
   "source": [
    "data_"
   ]
  },
  {
   "cell_type": "code",
   "execution_count": 68,
   "metadata": {},
   "outputs": [],
   "source": []
  },
  {
   "cell_type": "code",
   "execution_count": 71,
   "metadata": {},
   "outputs": [
    {
     "data": {
      "text/plain": [
       "[{8: 0.9930012076449223,\n",
       "  5: 0.24045758606641654,\n",
       "  3: 0.3074397382829177,\n",
       "  4: 0.9857577667059187,\n",
       "  6: 0.9566574985890073},\n",
       " {2: 0.2130711853254048,\n",
       "  7: 0.5022385528218152,\n",
       "  0: 0.11508530687678886,\n",
       "  1: 0.05227020923955683},\n",
       " {9: 0.7073703104407921}]"
      ]
     },
     "execution_count": 71,
     "metadata": {},
     "output_type": "execute_result"
    }
   ],
   "source": [
    "split_dict(data_, (0.4, 0.4, 0.2))"
   ]
  },
  {
   "cell_type": "code",
   "execution_count": null,
   "metadata": {},
   "outputs": [],
   "source": []
  }
 ],
 "metadata": {
  "kernelspec": {
   "display_name": "Python 3.10.6 ('yolov5_env')",
   "language": "python",
   "name": "python3"
  },
  "language_info": {
   "codemirror_mode": {
    "name": "ipython",
    "version": 3
   },
   "file_extension": ".py",
   "mimetype": "text/x-python",
   "name": "python",
   "nbconvert_exporter": "python",
   "pygments_lexer": "ipython3",
   "version": "3.10.6"
  },
  "orig_nbformat": 4,
  "vscode": {
   "interpreter": {
    "hash": "986dcc69ceac174e8f4777f318a8f509c0a1e6424f767391edf261f7813a777f"
   }
  }
 },
 "nbformat": 4,
 "nbformat_minor": 2
}
