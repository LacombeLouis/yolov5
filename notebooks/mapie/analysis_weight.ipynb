{
 "cells": [
  {
   "cell_type": "code",
   "execution_count": 1,
   "metadata": {},
   "outputs": [],
   "source": [
    "import numpy as np\n",
    "from sklearn.base import RegressorMixin, clone\n",
    "\n",
    "from sklearn.linear_model import QuantileRegressor\n",
    "from mapie.quantile_regression import MapieQuantileRegressor\n",
    "from sklearn.ensemble import GradientBoostingRegressor, RandomForestRegressor\n",
    "from inspect import signature\n",
    "from sklearn.model_selection import train_test_split\n",
    "from mapie.metrics import regression_coverage_score\n",
    "from sklearn.datasets import make_regression\n",
    "\n",
    "random_state = 1"
   ]
  },
  {
   "cell_type": "code",
   "execution_count": 2,
   "metadata": {},
   "outputs": [],
   "source": [
    "X, y = make_regression(n_samples=500, n_features=10, noise=1.0, random_state=random_state)\n",
    "k = np.ones(shape=(5, X.shape[1]))\n",
    "n_samples = len(X)"
   ]
  },
  {
   "cell_type": "markdown",
   "metadata": {},
   "source": [
    "# Analysis Gradient Boosting Regressor\n",
    "\n",
    "We can observe that we have a difference between all of the training scores despite having the same specification, or at least should be having the the same since we have constant weights."
   ]
  },
  {
   "cell_type": "code",
   "execution_count": 4,
   "metadata": {},
   "outputs": [
    {
     "name": "stdout",
     "output_type": "stream",
     "text": [
      "all good\n"
     ]
    }
   ],
   "source": [
    "# gb = GradientBoostingRegressor(loss=\"quantile\", random_state=1)\n",
    "\n",
    "# gb1 = clone(gb)\n",
    "# gb2 = clone(gb)\n",
    "# gb3 = clone(gb)\n",
    "# gb1.fit(X, y, sample_weight=None)\n",
    "# gb2.fit(X, y, sample_weight=np.ones(shape=n_samples))\n",
    "# gb3.fit(X, y, sample_weight=np.ones(shape=n_samples)*5)\n",
    "\n",
    "# np.testing.assert_allclose(\n",
    "#     gb1.__dict__[\"train_score_\"],\n",
    "#     gb2.__dict__[\"train_score_\"]\n",
    "# )\n",
    "\n",
    "# np.testing.assert_allclose(\n",
    "#     gb1.__dict__[\"train_score_\"],\n",
    "#     gb3.__dict__[\"train_score_\"]\n",
    "# )\n",
    "\n",
    "# print(\"all good\")"
   ]
  },
  {
   "cell_type": "markdown",
   "metadata": {},
   "source": [
    "# Quantile regression\n",
    "\n",
    "Seems to be working correctly, we do not see a difference with different constants for sample weights"
   ]
  },
  {
   "cell_type": "code",
   "execution_count": 4,
   "metadata": {},
   "outputs": [
    {
     "name": "stdout",
     "output_type": "stream",
     "text": [
      "{'quantile': 0.5, 'alpha': 1.0, 'fit_intercept': True, 'solver': 'highs', 'solver_options': None, 'n_features_in_': 10, 'n_iter_': 500, 'coef_': array([0., 0., 0., 0., 0., 0., 0., 0., 0., 0.]), 'intercept_': 9.279029358836635}\n",
      "{'quantile': 0.5, 'alpha': 1.0, 'fit_intercept': True, 'solver': 'highs', 'solver_options': None, 'n_features_in_': 10, 'n_iter_': 500, 'coef_': array([0., 0., 0., 0., 0., 0., 0., 0., 0., 0.]), 'intercept_': 9.279029358836635}\n",
      "{'quantile': 0.5, 'alpha': 1.0, 'fit_intercept': True, 'solver': 'highs', 'solver_options': None, 'n_features_in_': 10, 'n_iter_': 500, 'coef_': array([0., 0., 0., 0., 0., 0., 0., 0., 0., 0.]), 'intercept_': 9.279029358836635}\n"
     ]
    }
   ],
   "source": [
    "qt = QuantileRegressor(solver='highs')\n",
    "\n",
    "qt1 = clone(qt)\n",
    "qt2 = clone(qt)\n",
    "qt3 = clone(qt)\n",
    "qt1.fit(X, y, sample_weight=None)\n",
    "qt2.fit(X, y, sample_weight=np.ones(shape=n_samples))\n",
    "qt3.fit(X, y, sample_weight=np.ones(shape=n_samples)*5)\n",
    "\n",
    "print(qt1.__dict__)\n",
    "print(qt2.__dict__)\n",
    "print(qt3.__dict__)\n",
    "\n",
    "X_test, y_test = make_regression(n_samples=2, n_features=10, noise=1.0, random_state=random_state)\n",
    "\n",
    "y_pred1 = qt1.predict(X_test)\n",
    "y_pred2 = qt2.predict(X_test)\n",
    "y_pred3 = qt3.predict(X_test)\n",
    "\n",
    "np.testing.assert_allclose(y_pred1, y_pred2)\n",
    "np.testing.assert_allclose(y_pred1, y_pred3)\n"
   ]
  },
  {
   "cell_type": "markdown",
   "metadata": {},
   "source": [
    "# Checking MapieQuantileRegressor with QuantileRegressor \n",
    "\n",
    "For some reasons, it seems like only the prediction with quantile=0.5 is the one that is messing up with mapie3, not sure why. Still to be investigated."
   ]
  },
  {
   "cell_type": "code",
   "execution_count": 5,
   "metadata": {},
   "outputs": [
    {
     "name": "stdout",
     "output_type": "stream",
     "text": [
      "pred1\n",
      "[12.47840885 12.47840885]\n",
      "pred2\n",
      "[12.47840885 12.47840885]\n",
      "pred3\n",
      "[12.47840885 12.47840885]\n"
     ]
    }
   ],
   "source": [
    "qt = QuantileRegressor(solver='highs')\n",
    "\n",
    "mapie = MapieQuantileRegressor(\n",
    "    estimator=qt,\n",
    "    alpha=0.2\n",
    ")\n",
    "mapie1 = clone(mapie)\n",
    "mapie2 = clone(mapie)\n",
    "mapie3 = clone(mapie)\n",
    "\n",
    "X_train, y_train, X_calib, y_calib = train_test_split(X, y, test_size=0.5, random_state=random_state)\n",
    "X_test, y_test = make_regression(n_samples=2, n_features=10, noise=1.0, random_state=random_state)\n",
    "\n",
    "print(\"pred1\")\n",
    "mapie1.fit(X_train, X_calib, y_train, y_calib, sample_weight=None)\n",
    "y_pred1, y_pis1 = mapie1.predict(X_test)\n",
    "print(y_pred1)\n",
    "\n",
    "print(\"pred2\")\n",
    "mapie2.fit(X_train, X_calib, y_train, y_calib, sample_weight=None)\n",
    "y_pred2, y_pis2 = mapie2.predict(X_test)\n",
    "print(y_pred2)\n",
    "\n",
    "print(\"pred3\")\n",
    "mapie3.fit(X_train, X_calib, y_train, y_calib, sample_weight=None)\n",
    "y_pred3, y_pis3 = mapie3.predict(X_test)\n",
    "print(y_pred3)\n",
    "\n",
    "np.testing.assert_allclose(mapie1.y_calib_pred, mapie2.y_calib_pred)\n",
    "np.testing.assert_allclose(mapie1.y_calib_pred, mapie3.y_calib_pred)\n",
    "\n",
    "np.testing.assert_allclose(mapie1.conformity_scores_, mapie2.conformity_scores_)\n",
    "np.testing.assert_allclose(mapie1.conformity_scores_, mapie3.conformity_scores_)\n",
    "\n",
    "np.testing.assert_allclose(y_pis1, y_pis2)\n",
    "np.testing.assert_allclose(y_pis1, y_pis3)\n",
    "\n",
    "np.testing.assert_allclose(y_pred1, y_pred2)\n",
    "np.testing.assert_allclose(y_pred1, y_pred3)"
   ]
  },
  {
   "cell_type": "code",
   "execution_count": 6,
   "metadata": {},
   "outputs": [
    {
     "name": "stdout",
     "output_type": "stream",
     "text": [
      "[12.47840885 12.47840885]\n"
     ]
    }
   ],
   "source": [
    "qt = QuantileRegressor(solver='highs')\n",
    "\n",
    "mapie = MapieQuantileRegressor(\n",
    "    estimator=qt,\n",
    "    alpha=0.2\n",
    ")\n",
    "mapie1 = clone(mapie)\n",
    "\n",
    "X_train, y_train, X_calib, y_calib = train_test_split(X, y, test_size=0.5, random_state=random_state)\n",
    "mapie1.fit(X_train, X_calib, y_train, y_calib, sample_weight=None)\n",
    "\n",
    "\n",
    "X_test, y_test = make_regression(n_samples=2, n_features=10, noise=1.0, random_state=random_state)\n",
    "\n",
    "y_pred1, y_pis1 = mapie1.predict(X_test)\n",
    "print(y_pred1)"
   ]
  },
  {
   "cell_type": "code",
   "execution_count": null,
   "metadata": {},
   "outputs": [],
   "source": []
  }
 ],
 "metadata": {
  "interpreter": {
   "hash": "f27229f1a054c8e2693b81f3610baf421cb9dd61b982cfbc2e420a3dcbdacabd"
  },
  "kernelspec": {
   "display_name": "Python 3.10.4 ('mapie-notebooks')",
   "language": "python",
   "name": "python3"
  },
  "language_info": {
   "codemirror_mode": {
    "name": "ipython",
    "version": 3
   },
   "file_extension": ".py",
   "mimetype": "text/x-python",
   "name": "python",
   "nbconvert_exporter": "python",
   "pygments_lexer": "ipython3",
   "version": "3.10.4"
  },
  "orig_nbformat": 4
 },
 "nbformat": 4,
 "nbformat_minor": 2
}
