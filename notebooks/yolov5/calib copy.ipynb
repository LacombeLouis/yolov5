{
 "cells": [
  {
   "cell_type": "code",
   "execution_count": 1,
   "metadata": {},
   "outputs": [],
   "source": [
    "%load_ext autoreload\n",
    "%autoreload 2\n"
   ]
  },
  {
   "cell_type": "code",
   "execution_count": 2,
   "metadata": {},
   "outputs": [],
   "source": [
    "import sys\n",
    "from pathlib import Path\n",
    "import os\n",
    "sys.path.append('../../')"
   ]
  },
  {
   "cell_type": "code",
   "execution_count": 3,
   "metadata": {},
   "outputs": [],
   "source": [
    "ROOT = \"/Users/louislacombe/Thesis_code/yolov5\"\n",
    "if str(ROOT) not in sys.path:\n",
    "    sys.path.append(str(ROOT))  # add ROOT to PATH\n",
    "ROOT = Path(os.path.relpath(ROOT, Path.cwd()))  # relative\n",
    "\n",
    "\n",
    "LOCAL_RANK = int(os.getenv('LOCAL_RANK', -1))  # https://pytorch.org/docs/stable/elastic/run.html\n",
    "RANK = int(os.getenv('RANK', -1))\n",
    "WORLD_SIZE = int(os.getenv('WORLD_SIZE', 1))"
   ]
  },
  {
   "cell_type": "code",
   "execution_count": 4,
   "metadata": {},
   "outputs": [
    {
     "name": "stderr",
     "output_type": "stream",
     "text": [
      "/Users/louislacombe/opt/anaconda3/envs/yolov5_env/lib/python3.10/site-packages/tqdm/auto.py:22: TqdmWarning: IProgress not found. Please update jupyter and ipywidgets. See https://ipywidgets.readthedocs.io/en/stable/user_install.html\n",
      "  from .autonotebook import tqdm as notebook_tqdm\n"
     ]
    }
   ],
   "source": [
    "import yaml\n",
    "import datetime\n",
    "from tqdm import tqdm\n",
    "from argparse import Namespace\n",
    "import argparse\n",
    "import json\n",
    "\n",
    "import numpy as np\n",
    "import torch\n",
    "\n",
    "from utils.general import split_dict\n",
    "\n",
    "from utils.calibration_utils import (\n",
    "    setup_data_model, get_yolo_predictions, get_data_pred, calib_prep, collect_data_obj, \n",
    "    fitting_obj_calibrators, predict_obj_conf, draw_reliability_graph, \n",
    "    create_pred_for_nms, NMS, calibration,\n",
    "    collect_data_class, fitting_class_calibrators, predict_class_conf,\n",
    "    )\n",
    "\n",
    "from sklearn.isotonic import IsotonicRegression\n"
   ]
  },
  {
   "cell_type": "code",
   "execution_count": 5,
   "metadata": {},
   "outputs": [],
   "source": [
    "%matplotlib inline\n",
    "import matplotlib.pyplot as plt"
   ]
  },
  {
   "cell_type": "markdown",
   "metadata": {},
   "source": [
    "# Calibration"
   ]
  },
  {
   "cell_type": "code",
   "execution_count": 6,
   "metadata": {},
   "outputs": [],
   "source": [
    "import numpy as np\n",
    "import os\n",
    "from tqdm import tqdm\n",
    "import matplotlib.pyplot as plt\n",
    "from utils.metrics import box_iou\n",
    "from matplotlib.offsetbox import TextArea, AnnotationBbox\n",
    "\n",
    "from argparse import Namespace\n",
    "import yaml\n",
    "from pathlib import Path\n",
    "from sklearn.base import clone\n",
    "from sklearn.isotonic import IsotonicRegression\n",
    "from sklearn.calibration import _SigmoidCalibration\n",
    "import pickle\n",
    "import torch\n",
    "\n",
    "from models.common import DetectMultiBackend\n",
    "from utils.general import (LOGGER, check_dataset, xywh2xyxy, Profile, check_img_size, colorstr, scale_boxes, non_max_suppression)\n",
    "from utils.torch_utils import select_device\n",
    "from utils.dataloaders import create_dataloader\n",
    "from utils.metrics import ap_per_class, ConfusionMatrix\n",
    "from val import process_batch"
   ]
  },
  {
   "cell_type": "code",
   "execution_count": 7,
   "metadata": {},
   "outputs": [
    {
     "data": {
      "image/png": "[encoded data removed]",
      "text/plain": [
       "<Figure size 640x480 with 1 Axes>"
      ]
     },
     "metadata": {},
     "output_type": "display_data"
    }
   ],
   "source": [
    "plt.scatter(np.random.rand(200), np.random.rand(200))\n",
    "plt.show()"
   ]
  },
  {
   "cell_type": "code",
   "execution_count": 8,
   "metadata": {},
   "outputs": [],
   "source": [
    "opt = '../../config/opt/opt_Visdrone_detect_S_Hyp0.yaml'\n",
    "with open(opt) as f:\n",
    "    opt = Namespace(**yaml.safe_load(f))"
   ]
  },
  {
   "cell_type": "code",
   "execution_count": 12,
   "metadata": {},
   "outputs": [
    {
     "name": "stderr",
     "output_type": "stream",
     "text": [
      "YOLOv5 🚀 v6.1-624-ge7533e4 Python-3.10.6 torch-1.12.1 CPU\n",
      "\n",
      "Fusing layers... \n",
      "Model summary: 157 layers, 7225885 parameters, 0 gradients, 16.4 GFLOPs\n",
      "\u001b[34m\u001b[1mtest: \u001b[0mScanning '/Users/louislacombe/CODE/Thesis_code/datasets/coco/test-dev2017.cache' images and labels... 0 found, 20288 missing, 0 empty, 0 corrupt: 100%|██████████| 20288/20288 [00:00<?, ?it/s]\n"
     ]
    }
   ],
   "source": [
    "data = '../../data/coco.yaml'\n",
    "with open(data) as f:\n",
    "    opt_data = Namespace(**yaml.safe_load(f))\n",
    "# (save_dir / 'labels' if opt.save_txt else save_dir).mkdir(parents=True, exist_ok=True)  # make dir\n",
    "\n",
    "# Load model\n",
    "weights =  \"../../runs/train/coco/weights/best.pt\"\n",
    "device = select_device(opt.device, batch_size=opt.batch_size)\n",
    "model = DetectMultiBackend(weights, device=device, dnn=opt.dnn, data=data, fp16=opt.half)\n",
    "opt.half &= device.type != 'cpu'  # half precision only supported on CUDA\n",
    "model.half() if opt.half else model.float()\n",
    "stride, pt, jit, engine = model.stride, model.pt, model.jit, model.engine\n",
    "imgsz = check_img_size(opt.imgsz, s=stride)  # check image size\n",
    "ncm = model.model.nc\n",
    "task = opt.task if opt.task in ('train', 'val', 'test') else 'val'  # path to train/val/test images\n",
    "\n",
    "# Data\n",
    "data = check_dataset(data)  # check\n",
    "nc = 1 if opt.single_cls else int(opt_data.nc)  # number of classes\n",
    "# names = {0: 'item'} if opt.single_cls and len(opt_data.names) != 1 else opt_data.names  # class names\n",
    "# names = model.names if hasattr(model, 'names') else model.module.names  # get class names\n",
    "\n",
    "# Other\n",
    "dt = Profile(), Profile(), Profile()  # profiling times\n",
    "assert ncm == nc, f'{weights} ({ncm} classes) trained on different --data than what you passed ({nc} ' \\\n",
    "                    f'classes). Pass correct combination of --weights and --data that are trained together.'\n",
    "\n",
    "model.warmup(imgsz=(1 if pt else opt.batch_size, 3, imgsz, imgsz))  # warmup\n",
    "dataloader = create_dataloader(data[task],\n",
    "                                imgsz,\n",
    "                                opt.batch_size,\n",
    "                                stride,\n",
    "                                opt.single_cls,\n",
    "                                workers=opt.workers,\n",
    "                                prefix=colorstr(f'{task}: '))[0]"
   ]
  },
  {
   "cell_type": "code",
   "execution_count": 17,
   "metadata": {},
   "outputs": [
    {
     "data": {
      "text/plain": [
       "<utils.dataloaders.InfiniteDataLoader at 0x7f866d71bfd0>"
      ]
     },
     "execution_count": 17,
     "metadata": {},
     "output_type": "execute_result"
    }
   ],
   "source": [
    "dataloader"
   ]
  },
  {
   "cell_type": "code",
   "execution_count": 6,
   "metadata": {},
   "outputs": [
    {
     "ename": "FileNotFoundError",
     "evalue": "[Errno 2] No such file or directory: '../../../../../Thesis_code/yolov5/data/VisDrone.yaml'",
     "output_type": "error",
     "traceback": [
      "\u001b[0;31m---------------------------------------------------------------------------\u001b[0m",
      "\u001b[0;31mFileNotFoundError\u001b[0m                         Traceback (most recent call last)",
      "\u001b[1;32m/Users/louislacombe/CODE/Thesis_code/yolov5/notebooks/yolov5/calib copy.ipynb Cell 7\u001b[0m in \u001b[0;36m<cell line: 4>\u001b[0;34m()\u001b[0m\n\u001b[1;32m      <a href='vscode-notebook-cell:/Users/louislacombe/CODE/Thesis_code/yolov5/notebooks/yolov5/calib%20copy.ipynb#W6sZmlsZQ%3D%3D?line=1'>2</a>\u001b[0m \u001b[39mwith\u001b[39;00m \u001b[39mopen\u001b[39m(opt) \u001b[39mas\u001b[39;00m f:\n\u001b[1;32m      <a href='vscode-notebook-cell:/Users/louislacombe/CODE/Thesis_code/yolov5/notebooks/yolov5/calib%20copy.ipynb#W6sZmlsZQ%3D%3D?line=2'>3</a>\u001b[0m     opt \u001b[39m=\u001b[39m Namespace(\u001b[39m*\u001b[39m\u001b[39m*\u001b[39myaml\u001b[39m.\u001b[39msafe_load(f))\n\u001b[0;32m----> <a href='vscode-notebook-cell:/Users/louislacombe/CODE/Thesis_code/yolov5/notebooks/yolov5/calib%20copy.ipynb#W6sZmlsZQ%3D%3D?line=3'>4</a>\u001b[0m dataloader, model, opt, device, dt \u001b[39m=\u001b[39m setup_data_model(opt, ROOT)\n\u001b[1;32m      <a href='vscode-notebook-cell:/Users/louislacombe/CODE/Thesis_code/yolov5/notebooks/yolov5/calib%20copy.ipynb#W6sZmlsZQ%3D%3D?line=4'>5</a>\u001b[0m num_classes \u001b[39m=\u001b[39m model\u001b[39m.\u001b[39mmodel\u001b[39m.\u001b[39mnc\n\u001b[1;32m      <a href='vscode-notebook-cell:/Users/louislacombe/CODE/Thesis_code/yolov5/notebooks/yolov5/calib%20copy.ipynb#W6sZmlsZQ%3D%3D?line=6'>7</a>\u001b[0m data_dict \u001b[39m=\u001b[39m get_yolo_predictions(dataloader, model, opt, device, dt)\n",
      "File \u001b[0;32m~/CODE/Thesis_code/yolov5/notebooks/yolov5/../../utils/calibration_utils.py:50\u001b[0m, in \u001b[0;36msetup_data_model\u001b[0;34m(opt, ROOT)\u001b[0m\n\u001b[1;32m     47\u001b[0m \u001b[39mdef\u001b[39;00m \u001b[39msetup_data_model\u001b[39m(opt, ROOT):\n\u001b[1;32m     48\u001b[0m     \u001b[39m# Directories\u001b[39;00m\n\u001b[1;32m     49\u001b[0m     data \u001b[39m=\u001b[39m ROOT \u001b[39m/\u001b[39m opt\u001b[39m.\u001b[39mdata  \u001b[39m# dataset.yaml path\u001b[39;00m\n\u001b[0;32m---> 50\u001b[0m     \u001b[39mwith\u001b[39;00m \u001b[39mopen\u001b[39;49m(data) \u001b[39mas\u001b[39;00m f:\n\u001b[1;32m     51\u001b[0m         opt_data \u001b[39m=\u001b[39m Namespace(\u001b[39m*\u001b[39m\u001b[39m*\u001b[39myaml\u001b[39m.\u001b[39msafe_load(f))\n\u001b[1;32m     52\u001b[0m     \u001b[39m# (save_dir / 'labels' if opt.save_txt else save_dir).mkdir(parents=True, exist_ok=True)  # make dir\u001b[39;00m\n\u001b[1;32m     53\u001b[0m \n\u001b[1;32m     54\u001b[0m     \u001b[39m# Load model\u001b[39;00m\n",
      "\u001b[0;31mFileNotFoundError\u001b[0m: [Errno 2] No such file or directory: '../../../../../Thesis_code/yolov5/data/VisDrone.yaml'"
     ]
    }
   ],
   "source": [
    "opt = '../../config/opt/opt_Visdrone_detect_S_Hyp0.yaml'\n",
    "with open(opt) as f:\n",
    "    opt = Namespace(**yaml.safe_load(f))\n",
    "dataloader, model, opt, device, dt = setup_data_model(opt, ROOT)\n",
    "num_classes = model.model.nc\n",
    "\n",
    "data_dict = get_yolo_predictions(dataloader, model, opt, device, dt)\n",
    "calib_dict, test_dict = split_dict(data_dict, (0.3, 0.7))\n",
    "print(\"Length calib dict: \", len(calib_dict), \" and length calib dict: \", len(test_dict))"
   ]
  },
  {
   "cell_type": "code",
   "execution_count": null,
   "metadata": {},
   "outputs": [],
   "source": [
    "# Calibration parameters:\n",
    "n_bins = 50\n",
    "conf_thres = 0.01\n",
    "iou_thres_obj = 0.6\n",
    "iou_thres_class = 0.3\n",
    "\n",
    "where_apply_calib_obj = \"pred\"\n",
    "where_apply_calib_class = \"after_nms\"\n",
    "\n",
    "# Choose which calibrator you want to use for the calibration\n",
    "# calibrator = HistogramBinning(n_bins) # Histogram binning\n",
    "# calibrator = _SigmoidCalibration() # Platt\n",
    "calibrator = IsotonicRegression(out_of_bounds=\"clip\") # Isotonic Regression\n"
   ]
  },
  {
   "cell_type": "code",
   "execution_count": null,
   "metadata": {},
   "outputs": [],
   "source": [
    "print(\"BEFORE NMS\")\n",
    "calib_location = \"pred\"\n",
    "calib_obj = (where_apply_calib_obj == calib_location)\n",
    "calib_class = (where_apply_calib_class == calib_location)\n",
    "\n",
    "calibration(\n",
    "    calib_location,\n",
    "    calib_obj,\n",
    "    calib_class,\n",
    "    calib_dict,\n",
    "    test_dict,\n",
    "    calibrator,\n",
    "    conf_thres,\n",
    "    iou_thres_obj,\n",
    "    iou_thres_class,\n",
    "    dataloader,\n",
    "    opt,\n",
    "    num_classes,\n",
    "    device\n",
    ")\n",
    "\n",
    "print(\"-\"*50)\n",
    "print(\"-\"*50)\n",
    "print(\"AFTER NMS\")\n",
    "calib_location = \"after_nms\"\n",
    "calib_obj = (where_apply_calib_obj == calib_location)\n",
    "calib_class = (where_apply_calib_class == calib_location)\n",
    "\n",
    "calibration(\n",
    "    calib_location,\n",
    "    calib_obj,\n",
    "    calib_class,\n",
    "    calib_dict,\n",
    "    test_dict,\n",
    "    calibrator,\n",
    "    conf_thres,\n",
    "    iou_thres_obj,\n",
    "    iou_thres_class,\n",
    "    dataloader,\n",
    "    opt,\n",
    "    num_classes,\n",
    "    device\n",
    ")\n"
   ]
  },
  {
   "cell_type": "code",
   "execution_count": null,
   "metadata": {},
   "outputs": [],
   "source": [
    "obj_true = []\n",
    "obj_normal = []\n",
    "obj_calib = []\n",
    "\n",
    "for path in test_dict:\n",
    "    values_ = test_dict[path]\n",
    "    if \"idx\" in values_.keys():\n",
    "        obj_true.extend(values_[\"pred_obj_y_true\"])\n",
    "        obj_calib.extend(values_[\"pred_calib_obj_score\"])\n",
    "        obj_normal.extend(values_[\"pred_obj_score_idx\"])\n"
   ]
  },
  {
   "cell_type": "code",
   "execution_count": null,
   "metadata": {},
   "outputs": [],
   "source": [
    "fig, (axs1, axs2) = plt.subplots(1, 2, figsize=(12, 6))\n",
    "draw_reliability_graph(np.array(obj_normal), np.array(obj_true), n_bins, strategy=\"uniform\", title=\"Nomal objectness\", axs=axs1)\n",
    "draw_reliability_graph(np.array(obj_calib), np.array(obj_true), n_bins, strategy=\"uniform\", title=\"Calibrated objectness\", axs=axs2)\n",
    "plt.show()"
   ]
  },
  {
   "cell_type": "code",
   "execution_count": null,
   "metadata": {},
   "outputs": [],
   "source": [
    "# Configure\n",
    "model.eval()\n",
    "iouv = torch.linspace(0.5, 0.95, 10, device=device)  # iou vector for mAP@0.5:0.95\n",
    "niou = iouv.numel()\n",
    "\n",
    "seen = 0\n",
    "confusion_matrix = ConfusionMatrix(nc=nc)\n",
    "if isinstance(names, (list, tuple)):  # old format\n",
    "    names = dict(enumerate(names))\n",
    "class_map = list(range(1000))\n",
    "s = ('%22s' + '%11s' * 6) % ('Class', 'Images', 'Instances', 'P', 'R', 'mAP50', 'mAP50-95')\n",
    "tp, fp, p, r, f1, mp, mr, map50, ap50, map = 0.0, 0.0, 0.0, 0.0, 0.0, 0.0, 0.0, 0.0, 0.0, 0.0\n",
    "jdict, stats, ap, ap_class = [], [], [], []\n"
   ]
  },
  {
   "cell_type": "code",
   "execution_count": null,
   "metadata": {},
   "outputs": [],
   "source": [
    "\n",
    "\n",
    "\n",
    "\n",
    "\n",
    "\n"
   ]
  }
 ],
 "metadata": {
  "kernelspec": {
   "display_name": "Python 3.10.6 ('yolov5_env')",
   "language": "python",
   "name": "python3"
  },
  "language_info": {
   "codemirror_mode": {
    "name": "ipython",
    "version": 3
   },
   "file_extension": ".py",
   "mimetype": "text/x-python",
   "name": "python",
   "nbconvert_exporter": "python",
   "pygments_lexer": "ipython3",
   "version": "3.10.6"
  },
  "orig_nbformat": 4,
  "vscode": {
   "interpreter": {
    "hash": "986dcc69ceac174e8f4777f318a8f509c0a1e6424f767391edf261f7813a777f"
   }
  }
 },
 "nbformat": 4,
 "nbformat_minor": 2
}
