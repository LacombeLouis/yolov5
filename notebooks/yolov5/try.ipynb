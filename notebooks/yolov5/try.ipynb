{
 "cells": [
  {
   "cell_type": "code",
   "execution_count": 1,
   "metadata": {},
   "outputs": [
    {
     "name": "stderr",
     "output_type": "stream",
     "text": [
      "/Users/louislacombe/opt/anaconda3/envs/yolov5_env/lib/python3.10/site-packages/tqdm/auto.py:22: TqdmWarning: IProgress not found. Please update jupyter and ipywidgets. See https://ipywidgets.readthedocs.io/en/stable/user_install.html\n",
      "  from .autonotebook import tqdm as notebook_tqdm\n"
     ]
    }
   ],
   "source": [
    "import numpy as np\n",
    "from itertools import islice\n",
    "import matplotlib.pyplot as plt\n",
    "\n",
    "import sys\n",
    "from pathlib import Path\n",
    "import os\n",
    "from sklearn.utils.fixes import config_context\n",
    "from torch.distributed import pickle\n",
    "import yaml\n",
    "import pickle\n",
    "import datetime\n",
    "from argparse import Namespace, ArgumentParser\n"
   ]
  },
  {
   "cell_type": "code",
   "execution_count": 2,
   "metadata": {},
   "outputs": [],
   "source": [
    "sys.path.append('../../')"
   ]
  },
  {
   "cell_type": "code",
   "execution_count": 3,
   "metadata": {},
   "outputs": [],
   "source": [
    "from utils.general import LOGGER, Profile, split_dict, increment_path, print_args\n",
    "from utils.torch_utils import select_device\n",
    "from utils.calibration_utils import (\n",
    "    setup_data_model, get_yolo_predictions, get_calibrator, calibration, get_annotations_from_dict, get_preds_from_dict\n",
    "    )\n",
    "from utils.torch_utils import  smart_inference_mode\n",
    "from utils.metrics import ap_per_class\n",
    "\n",
    "from val import process_batch"
   ]
  },
  {
   "cell_type": "code",
   "execution_count": 4,
   "metadata": {},
   "outputs": [
    {
     "name": "stderr",
     "output_type": "stream",
     "text": [
      "YOLOv5 🚀 v6.1-628-g92adfdd Python-3.10.6 torch-1.12.1 CPU\n",
      "\n"
     ]
    }
   ],
   "source": [
    "opt = \"../../config/opt/opt_Visdrone_detect_S_Hyp0.yaml\"\n",
    "\n",
    "with open(opt) as f:\n",
    "    opt = Namespace(**yaml.safe_load(f))\n",
    "\n",
    "device = select_device(opt.device, batch_size=opt.batch_size)"
   ]
  },
  {
   "cell_type": "code",
   "execution_count": 5,
   "metadata": {},
   "outputs": [
    {
     "ename": "FileNotFoundError",
     "evalue": "[Errno 2] No such file or directory: '../../../RESULTS/VisDrone/calibrate_2022_10_19__18_34/calib_dict.pickle'",
     "output_type": "error",
     "traceback": [
      "\u001b[0;31m---------------------------------------------------------------------------\u001b[0m",
      "\u001b[0;31mFileNotFoundError\u001b[0m                         Traceback (most recent call last)",
      "\u001b[1;32m/Users/louislacombe/CODE/Thesis_code/yolov5/notebooks/yolov5/try.ipynb Cell 5\u001b[0m in \u001b[0;36m<cell line: 7>\u001b[0;34m()\u001b[0m\n\u001b[1;32m      <a href='vscode-notebook-cell:/Users/louislacombe/CODE/Thesis_code/yolov5/notebooks/yolov5/try.ipynb#W4sZmlsZQ%3D%3D?line=4'>5</a>\u001b[0m calib_dict \u001b[39m=\u001b[39m {}\n\u001b[1;32m      <a href='vscode-notebook-cell:/Users/louislacombe/CODE/Thesis_code/yolov5/notebooks/yolov5/try.ipynb#W4sZmlsZQ%3D%3D?line=5'>6</a>\u001b[0m file_calib \u001b[39m=\u001b[39m os\u001b[39m.\u001b[39mpath\u001b[39m.\u001b[39mjoin(target_dir, \u001b[39m\"\u001b[39m\u001b[39mcalib_dict.pickle\u001b[39m\u001b[39m\"\u001b[39m)\n\u001b[0;32m----> <a href='vscode-notebook-cell:/Users/louislacombe/CODE/Thesis_code/yolov5/notebooks/yolov5/try.ipynb#W4sZmlsZQ%3D%3D?line=6'>7</a>\u001b[0m \u001b[39mif\u001b[39;00m os\u001b[39m.\u001b[39;49mpath\u001b[39m.\u001b[39;49mgetsize(file_calib) \u001b[39m>\u001b[39m \u001b[39m0\u001b[39m:      \n\u001b[1;32m      <a href='vscode-notebook-cell:/Users/louislacombe/CODE/Thesis_code/yolov5/notebooks/yolov5/try.ipynb#W4sZmlsZQ%3D%3D?line=7'>8</a>\u001b[0m     \u001b[39mwith\u001b[39;00m \u001b[39mopen\u001b[39m(file_calib, \u001b[39m\"\u001b[39m\u001b[39mrb\u001b[39m\u001b[39m\"\u001b[39m) \u001b[39mas\u001b[39;00m f:\n\u001b[1;32m      <a href='vscode-notebook-cell:/Users/louislacombe/CODE/Thesis_code/yolov5/notebooks/yolov5/try.ipynb#W4sZmlsZQ%3D%3D?line=8'>9</a>\u001b[0m         unpickler \u001b[39m=\u001b[39m pickle\u001b[39m.\u001b[39mUnpickler(f)\n",
      "File \u001b[0;32m~/opt/anaconda3/envs/yolov5_env/lib/python3.10/genericpath.py:50\u001b[0m, in \u001b[0;36mgetsize\u001b[0;34m(filename)\u001b[0m\n\u001b[1;32m     48\u001b[0m \u001b[39mdef\u001b[39;00m \u001b[39mgetsize\u001b[39m(filename):\n\u001b[1;32m     49\u001b[0m     \u001b[39m\"\"\"Return the size of a file, reported by os.stat().\"\"\"\u001b[39;00m\n\u001b[0;32m---> 50\u001b[0m     \u001b[39mreturn\u001b[39;00m os\u001b[39m.\u001b[39;49mstat(filename)\u001b[39m.\u001b[39mst_size\n",
      "\u001b[0;31mFileNotFoundError\u001b[0m: [Errno 2] No such file or directory: '../../../RESULTS/VisDrone/calibrate_2022_10_19__18_34/calib_dict.pickle'"
     ]
    }
   ],
   "source": [
    "import os\n",
    "\n",
    "target_dir = \"../../../RESULTS/VisDrone/calibrate_2022_10_19__18_34\"\n",
    "\n",
    "calib_dict = {}\n",
    "file_calib = os.path.join(target_dir, \"calib_dict.pickle\")\n",
    "if os.path.getsize(file_calib) > 0:      \n",
    "    with open(file_calib, \"rb\") as f:\n",
    "        unpickler = pickle.Unpickler(f)\n",
    "        calib_dict = unpickler.load()\n",
    "\n",
    "test_dict = {}\n",
    "file_test = os.path.join(target_dir, \"test_dict.pickle\")\n",
    "if os.path.getsize(file_test) > 0:      \n",
    "    with open(file_test, \"rb\") as f:\n",
    "        unpickler = pickle.Unpickler(f)\n",
    "        test_dict = unpickler.load()"
   ]
  },
  {
   "cell_type": "code",
   "execution_count": 6,
   "metadata": {},
   "outputs": [
    {
     "ename": "NameError",
     "evalue": "name 'test_dict' is not defined",
     "output_type": "error",
     "traceback": [
      "\u001b[0;31m---------------------------------------------------------------------------\u001b[0m",
      "\u001b[0;31mNameError\u001b[0m                                 Traceback (most recent call last)",
      "\u001b[1;32m/Users/louislacombe/CODE/Thesis_code/yolov5/notebooks/yolov5/try.ipynb Cell 6\u001b[0m in \u001b[0;36m<cell line: 1>\u001b[0;34m()\u001b[0m\n\u001b[0;32m----> <a href='vscode-notebook-cell:/Users/louislacombe/CODE/Thesis_code/yolov5/notebooks/yolov5/try.ipynb#W5sZmlsZQ%3D%3D?line=0'>1</a>\u001b[0m test_dict[\u001b[39mlist\u001b[39m(test_dict\u001b[39m.\u001b[39mkeys())[\u001b[39m0\u001b[39m]]\u001b[39m.\u001b[39mkeys()\n",
      "\u001b[0;31mNameError\u001b[0m: name 'test_dict' is not defined"
     ]
    }
   ],
   "source": [
    "test_dict[list(test_dict.keys())[0]].keys()"
   ]
  },
  {
   "cell_type": "code",
   "execution_count": 18,
   "metadata": {},
   "outputs": [
    {
     "data": {
      "text/plain": [
       "array([[  0.0010429],\n",
       "       [   0.001426],\n",
       "       [  0.0037588],\n",
       "       ...,\n",
       "       [    0.30658],\n",
       "       [    0.42813],\n",
       "       [   0.060061]], dtype=float32)"
      ]
     },
     "execution_count": 18,
     "metadata": {},
     "output_type": "execute_result"
    }
   ],
   "source": [
    "test_dict[list(test_dict.keys())[0]][\"obj_Ocalib\"]"
   ]
  },
  {
   "cell_type": "code",
   "execution_count": 19,
   "metadata": {},
   "outputs": [
    {
     "data": {
      "text/plain": [
       "array([[ 2.7604e-06],\n",
       "       [ 3.1074e-06],\n",
       "       [  7.033e-06],\n",
       "       ...,\n",
       "       [ 9.7124e-09],\n",
       "       [ 1.7238e-08],\n",
       "       [  2.105e-07]], dtype=float32)"
      ]
     },
     "execution_count": 19,
     "metadata": {},
     "output_type": "execute_result"
    }
   ],
   "source": [
    "test_dict[list(test_dict.keys())[0]][\"obj\"]"
   ]
  },
  {
   "cell_type": "code",
   "execution_count": null,
   "metadata": {},
   "outputs": [],
   "source": [
    "test_dict[list(test_dict.keys())[0]][\"bbox_xyxy_scaled_Ocalib\"].shape"
   ]
  },
  {
   "cell_type": "code",
   "execution_count": null,
   "metadata": {},
   "outputs": [],
   "source": [
    "names = [\"after_nms\"+\"_bbox_xyxy_scaled\", \"after_nms\"+\"_obj_score\", \"after_nms\"+\"_class_score\"]\n",
    "test_values, _ = get_preds_from_dict(calib_dict, names, device)\n",
    "annotation_values, _ = get_annotations_from_dict(calib_dict, device)"
   ]
  },
  {
   "cell_type": "code",
   "execution_count": null,
   "metadata": {},
   "outputs": [],
   "source": [
    "import torch"
   ]
  },
  {
   "cell_type": "code",
   "execution_count": null,
   "metadata": {},
   "outputs": [],
   "source": []
  },
  {
   "cell_type": "code",
   "execution_count": null,
   "metadata": {},
   "outputs": [],
   "source": [
    "def calc_mAP(target_dir, plots):\n",
    "    file_var = os.path.join(target_dir, \"var.yaml\")\n",
    "    with open(file_var) as f:\n",
    "        var = Namespace(**yaml.safe_load(f))\n",
    "\n",
    "    names = var.names\n",
    "    nc = var.nc\n",
    "\n",
    "    iouv = torch.linspace(0.5, 0.95, 10, device=device)  # iou vector for mAP@0.5:0.95\n",
    "    niou = iouv.numel()\n",
    "    stats = []\n",
    "    seen = 0\n",
    "\n",
    "    for si, test_ in enumerate(test_values):\n",
    "        annot_ = annotation_values[si]\n",
    "        labels = annot_[annot_[:, 0] == si, 1:]\n",
    "        nl, npr = labels.shape[0], test_.shape[0]  # number of labels, predictions\n",
    "        correct = torch.zeros(npr, niou, dtype=torch.bool, device=device)  # init\n",
    "        seen += 1\n",
    "\n",
    "        if npr == 0:\n",
    "            if nl:\n",
    "                stats.append((correct, *torch.zeros((2, 0), device=device), labels[:, 0]))\n",
    "                if plots:\n",
    "                    confusion_matrix.process_batch(detections=None, labels=labels[:, 0])\n",
    "            continue\n",
    "\n",
    "        argmax_ = test_[:, 5:].clone().argmax(axis=1).reshape(-1, 1)\n",
    "        testn = torch.cat((test_[:, :5], argmax_), 1)\n",
    "        correct = process_batch(testn, annot_, iouv)\n",
    "        stats.append((correct, testn[:, 4], testn[:, 5], annot_[:, 0]))  # (correct, conf, pcls, tcls)\n",
    "\n",
    "\n",
    "    # Compute metrics\n",
    "    stats = [torch.cat(x, 0).cpu().numpy() for x in zip(*stats)]  # to numpy\n",
    "    if len(stats) and stats[0].any():\n",
    "        tp, fp, p, r, f1, ap, ap_class = ap_per_class(*stats, names=names)\n",
    "        ap50, ap = ap[:, 0], ap.mean(1)  # AP@0.5, AP@0.5:0.95\n",
    "        mp, mr, map50, map = p.mean(), r.mean(), ap50.mean(), ap.mean()\n",
    "    nt = np.bincount(stats[3].astype(int), minlength=nc)  # number of targets per class\n",
    "\n",
    "    # Print results\n",
    "    pf = '%22s' + '%11i' * 2 + '%11.3g' * 4  # print format\n",
    "    LOGGER.info(pf % ('all', seen, nt.sum(), mp, mr, map50, map))\n",
    "    if nt.sum() == 0:\n",
    "        LOGGER.warning(f'WARNING ⚠️ no labels found in calibration set, can not compute metrics without labels')\n",
    "\n",
    "    s = ('%22s' + '%11s' * 6) % ('Class', 'Images', 'Instances', 'P', 'R', 'mAP50', 'mAP50-95')\n",
    "    print(s)\n",
    "    # Print results per class\n",
    "    if nc < 50 and nc > 1 and len(stats):\n",
    "        for i, c in enumerate(ap_class):\n",
    "            LOGGER.info(pf % (names[c], seen, nt[c], p[i], r[i], ap50[i], ap[i]))"
   ]
  },
  {
   "cell_type": "code",
   "execution_count": null,
   "metadata": {},
   "outputs": [],
   "source": []
  }
 ],
 "metadata": {
  "kernelspec": {
   "display_name": "Python 3.10.6 ('yolov5_env')",
   "language": "python",
   "name": "python3"
  },
  "language_info": {
   "codemirror_mode": {
    "name": "ipython",
    "version": 3
   },
   "file_extension": ".py",
   "mimetype": "text/x-python",
   "name": "python",
   "nbconvert_exporter": "python",
   "pygments_lexer": "ipython3",
   "version": "3.10.6"
  },
  "orig_nbformat": 4,
  "vscode": {
   "interpreter": {
    "hash": "986dcc69ceac174e8f4777f318a8f509c0a1e6424f767391edf261f7813a777f"
   }
  }
 },
 "nbformat": 4,
 "nbformat_minor": 2
}
